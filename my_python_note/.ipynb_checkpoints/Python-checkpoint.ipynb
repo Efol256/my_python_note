{
 "cells": [
  {
   "cell_type": "markdown",
   "id": "fb9230b7",
   "metadata": {},
   "source": [
    "# Encabezado "
   ]
  },
  {
   "cell_type": "markdown",
   "id": "61f95916",
   "metadata": {},
   "source": [
    "## Segundo"
   ]
  },
  {
   "cell_type": "markdown",
   "id": "2eef0267",
   "metadata": {},
   "source": [
    "## Empezar\n",
    "\n",
    "Aquí intentando aprender python.<br>\n",
    "**Pollo**\n"
   ]
  },
  {
   "cell_type": "code",
   "execution_count": null,
   "id": "0256560e",
   "metadata": {},
   "outputs": [],
   "source": []
  }
 ],
 "metadata": {
  "kernelspec": {
   "display_name": "Python 3 (ipykernel)",
   "language": "python",
   "name": "python3"
  },
  "language_info": {
   "codemirror_mode": {
    "name": "ipython",
    "version": 3
   },
   "file_extension": ".py",
   "mimetype": "text/x-python",
   "name": "python",
   "nbconvert_exporter": "python",
   "pygments_lexer": "ipython3",
   "version": "3.9.7"
  }
 },
 "nbformat": 4,
 "nbformat_minor": 5
}
