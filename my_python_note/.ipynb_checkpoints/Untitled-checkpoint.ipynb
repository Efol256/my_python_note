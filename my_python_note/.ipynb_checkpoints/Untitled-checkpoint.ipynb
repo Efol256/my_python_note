{
 "cells": [
  {
   "cell_type": "code",
   "execution_count": 20,
   "id": "5fc629ea",
   "metadata": {},
   "outputs": [
    {
     "name": "stdout",
     "output_type": "stream",
     "text": [
      "Un numero: 1\n",
      "Un numero: 1\n",
      "Un numero: 5\n",
      "\n",
      "a = 1 ;b = 1 ;c = 5 \n",
      "\n",
      "c es el mayor\n"
     ]
    }
   ],
   "source": [
    "###### Programa 'Que numero es mayor'\n",
    "\n",
    "a,b,c = int(input('Un numero: ')), int(input('Un numero: ')), int(input('Un numero: '))\n",
    "print('\\na =',a,';b =',b,';c =',c,'\\n')\n",
    "\n",
    "if a==b==c:\n",
    "    print('Todos son iguales')\n",
    "if (a>b and a>c):\n",
    "    print('a es el mayor')\n",
    "if (b>a and b>c):\n",
    "    print('b es el mayor')\n",
    "if (c>a and c>b):\n",
    "    print('c es el mayor')"
   ]
  }
 ],
 "metadata": {
  "kernelspec": {
   "display_name": "Python 3 (ipykernel)",
   "language": "python",
   "name": "python3"
  },
  "language_info": {
   "codemirror_mode": {
    "name": "ipython",
    "version": 3
   },
   "file_extension": ".py",
   "mimetype": "text/x-python",
   "name": "python",
   "nbconvert_exporter": "python",
   "pygments_lexer": "ipython3",
   "version": "3.9.7"
  }
 },
 "nbformat": 4,
 "nbformat_minor": 5
}
