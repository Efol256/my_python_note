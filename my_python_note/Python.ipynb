{
 "cells": [
  {
   "cell_type": "markdown",
   "id": "fb9230b7",
   "metadata": {},
   "source": [
    "# Encabezado "
   ]
  },
  {
   "cell_type": "markdown",
   "id": "61f95916",
   "metadata": {},
   "source": [
    "## Segundo"
   ]
  },
  {
   "cell_type": "markdown",
   "id": "2eef0267",
   "metadata": {},
   "source": [
    "## Empezar\n",
    "\n",
    "Aquí intentando aprender python.<br>\n",
    "**Pollo**\n"
   ]
  },
  {
   "cell_type": "markdown",
   "id": "951cffcb",
   "metadata": {},
   "source": [
    "## Python"
   ]
  },
  {
   "cell_type": "markdown",
   "id": "8b17d29a",
   "metadata": {},
   "source": [
    "### Comentarios\n"
   ]
  },
  {
   "cell_type": "code",
   "execution_count": 15,
   "id": "f18c6fe4",
   "metadata": {},
   "outputs": [
    {
     "name": "stdout",
     "output_type": "stream",
     "text": [
      "Hola Mundo\n",
      "\n",
      "Hola Perro\n"
     ]
    }
   ],
   "source": [
    "print(\"Hola Mundo\\n\")\n",
    "print(\"Hola Perro\")"
   ]
  },
  {
   "cell_type": "code",
   "execution_count": 16,
   "id": "ac64fbf5",
   "metadata": {},
   "outputs": [
    {
     "name": "stdout",
     "output_type": "stream",
     "text": [
      "a = 10 y b = 5\n",
      "5\n"
     ]
    }
   ],
   "source": [
    "a=10\n",
    "b=5\n",
    "print(\"a =\",a,\"y b =\",b)\n",
    "print(a-b)"
   ]
  }
 ],
 "metadata": {
  "kernelspec": {
   "display_name": "Python 3 (ipykernel)",
   "language": "python",
   "name": "python3"
  },
  "language_info": {
   "codemirror_mode": {
    "name": "ipython",
    "version": 3
   },
   "file_extension": ".py",
   "mimetype": "text/x-python",
   "name": "python",
   "nbconvert_exporter": "python",
   "pygments_lexer": "ipython3",
   "version": "3.9.7"
  }
 },
 "nbformat": 4,
 "nbformat_minor": 5
}
